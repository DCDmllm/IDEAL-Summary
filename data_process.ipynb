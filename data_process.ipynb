{
 "cells": [
  {
   "cell_type": "markdown",
   "metadata": {},
   "source": [
    "# QMSum"
   ]
  },
  {
   "cell_type": "code",
   "execution_count": 7,
   "metadata": {},
   "outputs": [
    {
     "name": "stdout",
     "output_type": "stream",
     "text": [
      "Total 35 meetings in the val set.\n"
     ]
    }
   ],
   "source": [
    "import json\n",
    "# read the dataset\n",
    "# please enter the path of your data\n",
    "split = 'val' # train test\n",
    "path = \"/home\"\n",
    "data_path = f'{path}/QMSum-main/data/ALL/jsonl/' + split + '.jsonl'\n",
    "data = []\n",
    "with open(data_path) as f:\n",
    "    for line in f:\n",
    "        data.append(json.loads(line))\n",
    "n_meetings = len(data)\n",
    "print('Total {} meetings in the {} set.'.format(n_meetings, split))"
   ]
  },
  {
   "cell_type": "code",
   "execution_count": 2,
   "metadata": {},
   "outputs": [],
   "source": [
    "from nltk import word_tokenize\n",
    "# tokneize a sent\n",
    "def tokenize(sent):\n",
    "    tokens = ' '.join(word_tokenize(sent.lower()))\n",
    "    return tokens"
   ]
  },
  {
   "cell_type": "code",
   "execution_count": 3,
   "metadata": {},
   "outputs": [],
   "source": [
    "# filter some noises caused by speech recognition\n",
    "def clean_data(text):\n",
    "    text = text.replace('{ vocalsound }', '')\n",
    "    text = text.replace('{ disfmarker }', '')\n",
    "    text = text.replace('{ comment }', '')\n",
    "    text = text.replace('a_m_i_', 'ami')\n",
    "    text = text.replace('l_c_d_', 'lcd')\n",
    "    text = text.replace('p_m_s', 'pms')\n",
    "    text = text.replace('t_v_', 'tv')\n",
    "    text = text.replace('{ pause }', '')\n",
    "    text = text.replace('{ nonvocalsound }', '')\n",
    "    text = text.replace('{ gap }', '')\n",
    "    return text"
   ]
  },
  {
   "cell_type": "code",
   "execution_count": 8,
   "metadata": {},
   "outputs": [
    {
     "name": "stdout",
     "output_type": "stream",
     "text": [
      "Total 1257 query-summary pairs in the train set\n",
      "{'instruction': 'how did marketing design the product evaluation ?', 'input': \"project manager: yep . soon as i get this . okay . this is our last meeting . um i 'll go ahead and go through the minutes from the previous meeting . uh and then we 'll have a , the prototype presentation .  um then we will um do an evaluation . uh or we 'll see what , what we need to have under the criteria for the evaluation . then we 'll go through the finance and see if we fall within the budget . um then we 'll do the evaluation , and then we can finish up after that with um any changes that we 'll need to make , or hopefully everything will fall right in line . um let 's see , minutes from the last meeting . um we looked at uh the the trends . we had uh the fashion trends that people want a fancy look-and-feel . it was twice as important as anything else . um they liked fruit and vegetables in the new styles . um and a spongy feel . so we were talking about trying to incorporate those into our prototype . um they wanted limited buttons and simplicity . um then we looked at the uh the method for coming up with our own remote . um looking at other other devices . um the ipod , we really liked the look of that . um we also had uh the kid 's remote for a simple idea . um a two part remote , which was what were were originally looking at . uh and then um there was talk of spee uh speech recognition um becoming more uh predominant and easier to use . but i think we 've still decided not to go with that .  then we looked at the components um the materials for the case , the different energy sources , the different types of chips , um and made a decision on what we were going to use to make our remote . um and basically how , what were making for the prototype . so i 'm going to leave it at that and let you guys take over . user interface: the prototype discussion . project manager: the prototype yeah . do you need a  this ? user interface: no .  project manager: okay . industrial designer:  can try to plug that in there user interface: there is our remo  the banana . marketing:  industrial designer: but  user interface: um  yeah basically we we st went with the colour yellow . um working on the principle of a fruit which was mentioned , it 's basically designed around a banana . project manager:  user interface: um but it would be held in such a fashion , marketing:  user interface: where it is , obviously it would n't be that floppy 'cause this would be hard plastic . these would be like the rubber , the rubber grips . so that 's so that would hopefully help with grip , or like the ergonomics of it . um but all the controlling would be done with this scroll wheel . you have to use your imagination a little bit . and this here represents the screen , where you , where you 'd go through . project manager: very nice . user interface: and the the simplest functions would be um almost identical to an ipod , where that one way ch through channels , that way th other way through channels . volume up and down . and then to access the more complicated functions you 'd you sorta go , you press that and go through the menus . it 's that that simple . that just represents the infrared uh beam . that 's a simple on and off switch . um i do n't know , we could use the voice . t that blue bits should be yellow , that that 'd be where the batteries would be i suppose . and um  that 's about it . it 's as simple as you , we could make it really . industrial designer: right . user interface: is there anything you want to add ? industrial designer: that 's what we have there . that 's plastic . plastic covered with rubber . we might uh add some more underneath here . maybe give it , give it a form . i mean you 're supposed to hold it like that , but um just if you grab it , take it from somewhere , user interface: yeah . project manager: mm-hmm . industrial designer: so  yeah , user interface: does n't make much make much difference . industrial designer: you have some rub yeah . user interface: you could work left-handed or right-handed i suppose . industrial designer: exactly ,  use both . might as well think about  user interface: t the actual thing might be smaller . industrial designer: th think about the button as well . like either put either one  one on either side or user interface:  yeah . project manager: what but what 's that button ? industrial designer: not do it at all . it 's a quick on-off button . user interface: just the on and off . project manager: uh , 'kay . industrial designer: that 's um marketing:  industrial designer: yeah i think it 's pretty important . so you do n't have to fiddle with that . project manager: 'kay . industrial designer: right ? um that 's not um  project manager:  industrial designer: i 'd say a bit smaller would probably be nice . you wan na play with that over there . user interface: yeah . industrial designer: there you go . user interface: it 's you know it 's flimsy 'cause it 's made out of heavy play-doh , marketing:  project manager: would you like to uh  industrial designer: right . user interface: but  marketing: pretty impressive . project manager: well done . user interface:  marketing:  kind of a banana . user interface: and whether or not it would fall into the cost  everything i suppose . with the scroll and the lcd . project manager: well luckily we are going to find out . or not luckily . um do you have a marketing presentation for us . industrial designer:  marketing:  i do . okay . you guys are gon na help me do an evaluation of the criteria . um . okay . so first i 'll just discuss some of the criteria that i found . just based on the past trend reports that i was looking at earlier . and then we 'll do a group evaluation of the prototype . and then we will calculate the average score to see how we did . um so the criteria we 're gon na be looking at are the complaints um that we heard from the users who were interviewed earlier . so we 're gon na be doing it based on a seven point scale . and one is going to mean true , that we did actually achieve that . with seven being false , we did not achieve that .  . okay . so for the first one , we need to decide , did we solved the problem of the users who complained about an ugly remote ?  industrial designer:   . user interface:  project manager: i think it 's definitely different than anything else out there . user interface:  marketing: mm . user interface: yeah . project manager: so if they think that what is out there is ugly , then yes i would say , i would say most definitely . marketing:  user interface: i would  . project manager: it 's bright . user interface: it 's bright . it 's  project manager: it still has your traditional black . user interface: it 's curved . it 's not  there 's no sharp industrial designer:  user interface: angles to it . project manager: yep , not angular . marketing: mm . industrial designer: i 'd say , when it comes to the ergonomics , the form and stuff , yes that 's definitely more beautiful than your average . marketing:  industrial designer: however the colour , we do n't have a say in that . marketing: yeah i think the colours detract a little bit .  user interface: some people might say it . yeah . industrial designer: that has been , that has been dictated pretty much by the company . project manager: mm . industrial designer: so uh to answer that honestly i would rather say like uh , we have not solved the problem completely with the ugly remote because the colour is ugly , definitely . project manager:  yep . marketing: that 's true . yeah . project manager:  user interface: yeah . industrial designer: 's nothing you can say about that . i mean i much prefer something like brushed chrome with that form . user interface: yeah . industrial designer: but  project manager: yeah something more modern to go  a a modern colour to go with the modern form . industrial designer: right . right . it 's different . you do n't want your uh three feet huge lcd dis display in your living room that 's hanging from the wall to be controlled with something like that . marketing: um okay so , do you think , since we  this was a a sign criteria , do you think maybe we should put it somewhere in the middle then ? industrial designer: yeah . marketing: does that sound good ? project manager: yeah . user interface: yeah . industrial designer:  marketing: what do you think ? three ? four ? project manager: i would say marketing: five ? project manager: four .  industrial designer: yeah .  marketing:  four is fair . okay . project manager: very non-committal , four . marketing: okay , the second one . did we make it simple for new users ? industrial designer: it 's very intuitive , i think yeah . user interface: yeah . i think that was the main aim , one of the main aims that we had . industrial designer:  s give it a one . marketing: one , project manager: yeah . marketing: 'kay . okay . um , do the controls now match the operating behaviour of the users ? user interface: uh yeah . 'cause we 've we 've brought it down to basically four controls  most common , which are channel and volume . marketing: i 'd say that  project manager: mm-hmm . industrial designer: right . user interface: and then the other ones are just a matter of just going , just scrolling further . project manager: s scrolling through and selecting a few . industrial designer: right . so that 's a one . marketing: so one ? project manager: i think that 's a one . marketing: yeah ?  okay . okay um the fourth one . how about the problem of a remote being easily lost ? one of the number one complaints . industrial designer: something that big and that yellow you just do n't lose anymore . project manager:  user interface:  yeah . marketing:  whether you want to or not , you 're not gon na lose it .  user interface: it 's bright yellow . industrial designer:  user interface: bright yellow 's hard to lose . but um if we were to , if we were , that , the speech recognition . that , we could maybe just use that solely for the the finding thing . that was what we 'd we 'd mentioned . project manager: so if we incorporate speech recognition into it then it could  user interface: just just to use , to find it when it was lost . but like i said , like i do n't think you 'd lose something so yellow so easily . industrial designer: oops . hmm . user interface: and it 's not gon na fall , like a rectangle would slip down behind things . that 's gon na be a difficult shape to  industrial designer: well what  project manager: and it is quite bright and  user interface: yeah . marketing:  user interface: maybe in the middle again , three or four or something ? project manager: uh  industrial designer: s marketing: okay . user interface: i mean you know  loo losing things is one of those things that people can lose , i mean a million ways . project manager: yeah . user interface: you can pick it up and walk away with it and then you 've lost it . industrial designer: mm . marketing: that 's true . project manager: but if we do go with the , with the speech recognition , then it , then our scale goes up quite a bit i think . marketing: mm . industrial designer: oh yeah . you probably  user interface: yeah . project manager: probably two . you know . if we eliminate the fact that you know it 's impossible to guarantee that it 's not gon na be lost then user interface: yeah . industrial designer: mm . project manager: i 'd say two . industrial designer:  marketing:  project manager: with the speech recognition , which of course may be changed depending on budget . user interface: yeah . industrial designer: y you could add an extra feature actually . which makes this thing raise hell when you remove it too far from the television . user interface: yeah . industrial designer: we could add that but that 's nothing we have thought of so far . project manager: which , which may be cheaper than speech recognition if it were just a  industrial designer: yes . user interface: yeah true . but i mean d just those whistling , clapping key rings you have . they 're cheap . marketing: annoying alarm or something ? project manager:  industrial designer: it 's it 's  marketing: yeah . user interface: so it ca n't be that industrial designer: um the  it 's based on this anti anti-theft technology for suitcases and stuff , user interface: expensive . project manager: some sort of proximity   user interface: yeah . industrial designer: where you have one piece that 's attached to your luggage , another piece that starts beeping . that ca n't cost much . user interface: yeah . industrial designer: so that can also easily be integrated because these things are small enough to to hide , so you have one piece , you have to glue somewhere behind your  stick it behind your tv and the other  user interface:  stick it on the tv  . project manager:  pray that you do n't accidentally lose that piece .  industrial designer: right . user interface:  marketing:  industrial designer: that 'd be tough then .  well also your remote would uh alarm you if somebody stole you t your television , yeah . ran off with it without taking the beautiful remote control . project manager:  user interface: yeah .  marketing: so . are we adding one of these two features ? industrial designer: let 's add one of those features and say yes .  marketing:  gon na say  okay . project manager: okay . marketing: so we 're  back to a one ? user interface: two . marketing: or a two ? project manager: two . industrial designer: two . marketing: two , 'kay . okay . are we technologically innovative ? industrial designer: uh  user interface:  i 'd say so . industrial designer:  user interface: uh do n't get many mo remote controls with industrial designer: it 's all just  user interface: screens on . industrial designer: it 's all just stolen technology when it comes down to    user interface: yeah it 's stolen technology . marketing: from ipod yeah .  project manager: it 's   user interface: but we have  . project manager: but there 's not a lot of yellow , there 's not a lotta yellow . industrial designer: right marketing: but for remotes  yeah . project manager: course that was n't really  industrial designer: right user interface: fa industrial designer: right right . project manager: we were kinda forced to take that colour . marketing: two ? three ? user interface:  'cause it 's stolen . project manager: i do n't know that we are that innovative , to tell you the truth .  user interface: no maybe not . industrial designer: yeah not really . marketing: but how many remotes do you see like this ? user interface:  project manager: if we added the screaming factor  then we go up . industrial designer:  marketing: not so many . industrial designer:  user interface:  marketing:  project manager:  um i would say we 're probably at four . industrial designer: right . marketing: really ? okay .  that 's gon na hurt us . user interface:  marketing: okay . um spongy material ? industrial designer: yeah well you have that , kind of , sort of . project manager: we have some spongy , yeah . user interface: yeah as much as as needed , i think . marketing: 'kay . industrial designer: it 's not a one though . project manager: no . industrial designer: one would be the whole thing project manager: yeah . because it 's only got what , these parts are the grips and perhaps the back side  the bottom  the underneath on the back . industrial designer: to fold and stuff . yeah . user interface: yeah . industrial designer: so that 's a four at most . project manager: probably a four at most . possibly even a five . marketing: and lastly , did we put the fashion in electronics ? project manager:  industrial designer: y yes . user interface: yeah . marketing: i 'd say we did . project manager: if your fashion is b is carmen miranda , you betcha .  industrial designer: more   user interface: yeah .  marketing:  industrial designer:  well the recent fashion is rather displayed in the in the lcd and the way you operate it than the form and the colour , user interface: on the  project manager: it 's true . user interface: yeah . industrial designer: but it definitely is  user interface: be what we were told , and they 'd say yeah , definitely . industrial designer:  . marketing: 'kay . alright . now we just got ta calculate . six eight twelve sixteen . seventeen divided by s user interface:  . project manager: seven is  marketing: eight . project manager: two point  marketing:  project manager:  two point four ? user interface: is that some long division ? no . project manager: something . marketing: well i have n't done math in years . industrial designer:  marketing: what two  user interface:  marketing:  i dunno . user interface: just , i 'm sure there 's a  . marketing: okay we 'll say two point four two . right ? how does that look ? industrial designer: i 'm impressed . i ca n't do that without a calculator .  user interface: no i ca n't do long  marketing:  it 's been a while . user interface: very impressive . project manager: and what what is the acceptable criteria ? is there like a scale that we have to hit ? marketing: oh no . they just told me to industrial designer:  marketing:  pick my own criteria and have you guys evaluate it  basically . project manager:  alright then . marketing: so that 's that . project manager: okay . well , let 's see . marketing:  project manager: now we get to do the budget numbers . you did n't know that you were gon na have a budget . but we do . okay . user interface: yeah . yeah so . you 'd been going a long time dividing that . it 's two point four two eight five se it just keeps going on . marketing: oh my god . user interface: two point four two basically . marketing: okay . yeah we 'll go with that . project manager: so i have here an  industrial designer:  fifty percent , you 're kidding . marketing: not too shabby . project manager: yeah . industrial designer:  p project manager: we want a fifty percent profit on this . oh you ca n't really see that very well . user interface:  charge about three hundred quid for it . project manager:  twelve and a half euros is what supposed to cost us . okay , so  industrial designer: it 's too much . project manager: well let 's see . industrial designer: um  project manager: the f the  wonder if i can make this  industrial designer: uh  project manager: what the   oh it wo n't let me do that . okay . alright so at top , i do n't know if you guys can read that or not . i ca n't 'cause i do n't have my glasses on , industrial designer:  project manager: but so we 've got the energy source . there 's uh four , five , six categories . industrial designer: battery . project manager: we have energy source , electronics , case . then we have case material supplements , interface type , and then button supplements . okay so  uh first of all energy source , we picked battery . um and how many batteries do we think this will probably take ? user interface:  project manager: probably some e either two or four . industrial designer: two . project manager: two ?  like it .  industrial designer: at four it 's gon na be too heavy , so that that 's not our problem . people can change it every month . project manager:  excellent . industrial designer:  they wo n't know until after they bought it . user interface:  marketing:  project manager: this is consumerism . industrial designer:  project manager: alright so for the electronics our choices are simpl simple chip-on-print , regular chip-on-print , advanced chip-on-print , sample sensor , sample speaker . industrial designer:  . user interface: we 're advanced chip are we ? industrial designer: that 's the advanced chip-on-print , yeah . project manager: 'kay ,  we have one of those . 'kay then the case is a  probably it 's double curved . industrial designer: double curved , yes . project manager: case materials are industrial designer: plastic . project manager: plastic . um i guess it 's two , since one for the top , one for the bottom . industrial designer: n no . project manager: is that right or is it just one ? industrial designer: no that 's just one . project manager: maybe it 's one because of the  industrial designer: it 's just one mo single mould , we can do that . project manager: 'kay . user interface: yeah  yeah . marketing: right .  project manager: i guess it does n't matter 'cause the price on that one is zero , which is nice . industrial designer: exactly , right . marketing: oh . project manager: special colour ? industrial designer: that 's not a special colour . it 's a specially ugly colour , but it 's not special . marketing: bright yellow . project manager:  interface type . we have pushbutton , scroll-wheel interface , integrated scroll-wheel pushbutton , and an lcd display . user interface:  marketing:  user interface: s industrial designer: s  user interface: that 's  yeah . project manager: so we actually have the lcd display marketing:  user interface: and then  project manager: and then is it the integrated or is it  user interface: i 'd say the integrated . project manager: yeah . industrial designer: yes unfortunately . project manager: 'kay . button supplement ? special colour ? user interface: mm . project manager: um special form ? special material . industrial designer: we could of course make the buttons wood . project manager:  user interface:  marketing:  industrial designer:  say mahogany or so marketing:  it 'd look really lovely . project manager: or titanium . industrial designer: mm-hmm or titanium . project manager: they cost us all the same . marketing:  yeah . user interface:  remote control  . project manager: well we only have one button so really we should n't be charged , industrial designer: uh just  marketing:  industrial designer:  project manager:  we should n't be charged anything for the the button supplements . user interface: no that 's getting a bit tiny . project manager: um  user interface: yeah . marketing:  user interface: i 'd ignore that . marketing: leave it blank . project manager: okay . we 're gon na leave that one blank because we run on a lcd and scroll . so our total is fifteen point five . which i believe is industrial designer: yeah that 's too much . project manager: by three euros over . industrial designer: it 's hard to believe . so we 'll go for the hand dynamo huh ?  project manager:  user interface:  marketing:  project manager: so the only thing better than um a banana-shaped remote is one that you shake . user interface: if it w what if we completely took out the the one single button we 've got on . marketing:  industrial designer:  user interface: and just had a scroll wheel interface . and the lcd display . i suppose the lcd c_ display 's the one that 's pushing it up a bit though . project manager: yeah 'cause the  marketing:  project manager: well 'cause we have to have both right ? user interface: yeah . industrial designer: i mean let 's let 's face it , it also depends on the software on the on the television . user interface: yeah . industrial designer: you can have the the information that this thing transmits be being displayed on the on the screen . project manager: mm-hmm . industrial designer: so s yeah let 's take away the  user interface: yeah you could maybe take out the lcd dis display even , industrial designer: yeah . yeah . user interface: if it if it comes up on the computer itsel on the tv itself . industrial designer: right . project manager: so we may not need the lcd display ? user interface: uh that is possible yeah . industrial designer: right . we may not need it . there you go . project manager: well there we go . industrial designer: perfect . project manager: twelve point five . user interface: there we go . marketing:  perfect . project manager: okay . so we just remove our  marketing:  industrial designer:  user interface: screen . marketing:  project manager: screen here . user interface: make it a bigger dial . industrial designer:  user interface: easier to use . even easier to use then . project manager:  industrial designer:  okay , the  user interface:  marketing:  project manager: besides look at what the lcd does to our lovely remote . user interface:  marketing:  project manager: back to the design room boys . industrial designer: so we can just take away a heck of a lot of the   marketing:  user interface:  marketing:  . industrial designer: there you go .  central ? marketing: what 's the blue part ? user interface: that was just  industrial designer: oh that 's just  user interface: we ran out of yellow .  marketing: oh that 's the batteries . industrial designer: yeah . marketing: okay .  industrial designer: there you go user interface: there you go . industrial designer: . oops . user interface: even simpler . marketing:  looks more like a banana . user interface: yeah . industrial designer: there you go . user interface: for all those fruit lovers out there . industrial designer: one more criteria . project manager:  marketing:  project manager:  okay so the costs under twelve point five euro . was no . we redesigned it . now it 's yes . user interface: yeah . marketing:  project manager: next slide . project evaluation . uh project process , satisfaction with , for example , room for creativity , leadership , teamwork , means , new ideas found . um  so  i guess that  let 's see here . i think that perhaps the project evaluation 's just supposed to be completed by me . but i 'd like to hear your thoughts . marketing:  project manager:  industrial designer:  fair enough .  user interface:  marketing: trying to fill in some time there .  project manager: uh h what did you think of our project process ?  industrial designer: great .  user interface: i think we did  yeah i think we did quite well . um  industrial designer: yeah . project manager: good . marketing: good teamwork  .  industrial designer: just half a day , you have a remote . there you go . user interface: yeah . right from the start of the day . project manager: yeah i think  user interface: we sort of knew where we were going straight away i thought . project manager:  we st we started off a little little weak . our leadership was quite weak in the beginning . marketing:  project manager: um  um  marketing:  project manager: but as the day went along we had more idea of what we were doing . um room for creativity ? there was that . um i think we tried a lotta different things and um i think it was um interesting as you guys brought up more um information and studies that we were right on with a lot of those things . um you guys worked together well as a team . and um the means ? which was the whiteboard and the pens . user interface: yeah . we 've used the whiteboard . industrial designer: super super . project manager: i had some problem with the pen i think , but  minus your p marketing: minus your powerpoint fiasco . industrial designer:  well that 's not my fault . that 's obviously the people i work for uh that work for me , marketing: no i know . i 'm  project manager: well  marketing: yeah . incom  industrial designer: uh they 've just you know  user interface:  project manager:  have a  industrial designer: heads are gon na roll , believe me . project manager: we have a list of employees that you would like fired . user interface:  marketing:  user interface:  industrial designer: yes yes . project manager: okay . n new ideas found ? um  industrial designer:  marketing: mm . kinda . project manager: yes for the remote . maybe no not f for user interface: technology used . project manager: technology . alright . closing . costs are within the budget . project is evaluated . um complete the final questionnaire and meeting summary . that 's it . user interface: excellent . project manager: and i still have to do my minutes for the last meeting .  marketing:  project manager: actually . um so there will probably be another questionnaire coming up . and then we 'll have to check with the main boss whether we can , what goes on after that . marketing: we might have a while though . industrial designer:  . project manager: but that 's the end of our meeting .\", 'output': 'marketing had some evaluation criteria in mind , based on previous marketing strategy , on the latest trends , and on user preferences . the team should figure out whether their product could solve the complaints of the ugly remote control . there was a seven-point scale rating for each criterion . the team would give comments to each feature listed and agree on the final rating .'}\n"
     ]
    }
   ],
   "source": [
    "# process data for Seq2Seq\n",
    "# the input of the model here is the entire content of the meeting\n",
    "bart_data = []\n",
    "for i in range(len(data)):\n",
    "    # get meeting content\n",
    "    src = []\n",
    "    for k in range(len(data[i]['meeting_transcripts'])):\n",
    "        cur_turn = data[i]['meeting_transcripts'][k]['speaker'].lower() + ': '\n",
    "        cur_turn = cur_turn + tokenize(data[i]['meeting_transcripts'][k]['content'])\n",
    "        src.append(cur_turn)\n",
    "    src = ' '.join(src)\n",
    "    for j in range(len(data[i]['general_query_list'])):\n",
    "        cur = {}\n",
    "        query = tokenize(data[i]['general_query_list'][j]['query'])\n",
    "        cur['instruction'] = clean_data(query)\n",
    "        cur['input'] = clean_data(src)\n",
    "        # cur['src'] = clean_data('<s> ' + query + ' </s> ' + src + ' </s>')\n",
    "        target = tokenize(data[i]['general_query_list'][j]['answer'])\n",
    "        # cur['tgt'] = target\n",
    "        cur['output'] = target\n",
    "        bart_data.append(cur)\n",
    "    for j in range(len(data[i]['specific_query_list'])):\n",
    "        cur = {}\n",
    "        query = tokenize(data[i]['specific_query_list'][j]['query'])\n",
    "        # cur['src'] = clean_data('<s> ' + query + ' </s> ' + src + ' </s>')\n",
    "        cur['instruction'] = clean_data(query)\n",
    "        cur['input'] = clean_data(src)\n",
    "        target = tokenize(data[i]['specific_query_list'][j]['answer'])\n",
    "        # cur['tgt'] = target\n",
    "        cur['output'] = target\n",
    "        bart_data.append(cur)\n",
    "        \n",
    "print('Total {} query-summary pairs in the {} set'.format(len(bart_data), split))\n",
    "print(bart_data[2])\n",
    "with open(f'{path}/datasets/QMSum/' + split + '.jsonl', 'w') as f:\n",
    "    for i in range(len(bart_data)):\n",
    "        print(json.dumps(bart_data[i]), file=f)"
   ]
  },
  {
   "cell_type": "code",
   "execution_count": 8,
   "metadata": {},
   "outputs": [
    {
     "name": "stdout",
     "output_type": "stream",
     "text": [
      "Total 272 query-summary pairs in the val set\n",
      "{'instruction': 'what was said on speech overlap ?', 'input': \"phd d: uh - huh . ok . professor e: so .  right . phd f: as opposed to the rest of us . phd d: well -   ok . i  i remind that me  my first objective eh , in the project is to  to study difference parameters to  to find a  a good solution to detect eh , the overlapping zone in eh speech recorded . but eh ,  tsk ,   ehhh  in that way  i   i   i begin to  to study and to analyze the ehn  the recorded speech eh the different session to  to find and to locate and to mark eh the  the different overlapping zone . and eh so eh i was eh  i am transcribing the  the first session and i  i have found eh , eh one thousand acoustic events , eh besides the overlapping zones , eh i  i  i mean the eh breaths eh aspiration eh , eh , talk eh , eh , clap , eh   i do n't know what is the different names eh you use to  to name the  the  n speech phd a: nonspeech sounds ? phd d: yeah . grad g: oh , i do n't think we 've been doing it at that level of detail . so . phd d: yeah . eh ,  i  i  i do i do n't need to  to  to mmm   to m to label the  the different acoustic , but i prefer because eh i would like to  to study if eh , i  i will find eh , eh , a good eh parameters eh to detect overlapping i would like to  to  to test these parameters eh with the  another eh , eh acoustic events , to nnn   to eh  to find what is the ehm  the false  eh , the false eh hypothesis eh , nnn , which eh are produced when we use the  the ehm  this eh parameter  eh i mean pitch eh , eh , difference eh , feature  grad g: mm - hmm . phd a: you know  i think some of these um that are the nonspeech overlapping events may be difficult even for humans to tell that there 's two there . grad g: so it was  phd d: yeah . phd a: i mean , if it 's a tapping sound , you would n't necessarily  or , you know , something like that , it 'd be  it might be hard to know that it was two separate events . phd d: yeah . yeah . yeah . yeah . grad g: well  you were n't talking about just overlaps phd d: ye grad g: were you ? you were just talking about acoustic events . phd d: i  i  i  i t i t i talk eh about eh acoustic events in general , grad g: someone starts , someone stops  yeah . phd a: oh . phd d: but eh my  my objective eh will be eh to study eh overlapping zone . grad g: mm - hmm . phd d: eh ?  n eh in twelve minutes i found eh , eh one thousand acoustic events . professor e: how many overlaps were there uh in it ? no no , how many of them were the overlaps of speech , though ? phd d: how many ? eh almost eh three hundred eh in one session grad g: oh , god ! phd d: in five  eh in forty - five minutes . phd a: three hundred overlapping speech  phd d: alm - three hundred overlapping zone . grad g: ugh . phd c: overlapping speech . phd d: with the overlapping zone , overlapping speech  speech what eh different duration . phd a: mm - hmm . professor e: sure . postdoc b: does this  ? so if you had an overlap involving three people , how many times was that counted ? phd d: yeah , three people , two people . eh , um i would like to consider eh one people with difference noise eh in the background , be professor e: no no , but i think what she 's asking is  if at some particular for some particular stretch you had three people talking , instead of two , did you call that one event ? phd d: oh . oh . yeah . i consider one event eh for th for that eh for all the zone . this  th i  i  i con i consider  i consider eh an acoustic event , the overlapping zone , the period where three speaker or eh  are talking together . grad g: well  so let 's  postdoc b: for grad g: so let 's say me and jane are talking at the same time , and then liz starts talking also over all of us . how many events would that be ? phd d: so - i do n't understand . grad g: so , two people are talking ,  and then a third person starts talking . phd d: yeah ? grad g: is there an event right here ? phd d: eh no . no no . for me is the overlapping zone , because  because you  you have s you have more one  eh , more one voice eh , eh produced in a  in  in a moment . professor e: i see . grad g: so i if two or more people are talking . professor e: ok . yeah . so i think  yeah . we just wanted to understand how you 're defining it . phd d: yeah . if professor e: so then , in the region between  since there  there is some continuous region , in between regions where there is only one person speaking . phd d: uh - huh . professor e: and one contiguous region like that you 're calling an event . phd d: uh - huh . professor e: is it  are you calling the beginning or the end of it the event , phd d: yeah . professor e: or are you calling the entire length of it the event ? phd d: i consider the  the , nnn  the nnn , nnn  eh , the entirety eh , eh , all  all the time there were  the voice has overlapped . professor e: ok . phd d: this is the idea . but eh i  i do n't distinguish between the  the numbers of eh speaker . uh , i 'm not considering  eh the  the  ehm  eh , the fact of eh , eh , for example , what did you say ? eh at first eh , eh two talkers are uh , eh speaking , and eh , eh a third person eh join to  to that . for me , it 's eh  it 's eh , all overlap zone , with eh several numbers of speakers is eh , eh the same acoustic event . wi - but  uh , without any mark between the zone  of the overlapping zone with two speakers eh speaking together , and the zone with the three speakers . postdoc b: that would j just be one . phd d: it  one . one . postdoc b: ok . phd d: eh , with eh , a beginning mark and the ending mark . because eh  for me , is the  is the zone with eh some kind of eh distortion the spectral . professor e: got it . phd d: i do n't mind  by the moment , by the moment . grad g: well , but  but you could imagine that three people talking has a different spectral characteristic than two . phd d: i  i do n't  yeah , but eh  but eh i have to study .  what will happen in a general way , professor e: could . grad g: so . you had to start somewhere . professor e: yeah . we just w phd c: so there 's a lot of overlap . phd d: i   i do n't know what eh will  will happen with the  grad g: yep . phd c: so . grad g: that 's a lot of overlap , phd d: yeah ? professor e: so again , that 's  that 's three  three hundred in forty - five minutes that are  that are speakers , just speakers . grad g: yeah , for forty - five minutes . phd d: yeah . yeah . professor e: uh - huh . ok . yeah . postdoc b: but a  a  a th professor e: so that 's about eight per minute . postdoc b: but a thousand events in twelve minutes , that 's  phd d: yeah ,  but  yeah . phd c: but that can include taps . phd d: but  professor e: uh . yeah . postdoc b: well , but a thousand taps in eight minutes is a l in twelve minutes is a lot . phd d: general . phd c: actually  phd d: i  i con i consider  i consider acoustic events eh , the silent too . postdoc b: silent . grad g: silence starting or silence ending  phd d: yeah , silent , ground to  bec to detect  eh because i consider acoustic event all the things are not eh speech . phd c: oh , ok . professor e: mm - hmm . phd a: oh . phd d: in ge in  in  in a general point of view . phd c: oh . professor e: ok , so how many of those thousand were silence ? phd c: alright . phd d: in the per phd f: not speech  not speech or too much speech . phd d: too much speech . professor e: right . so how many of those thousand were silence , silent sections ? phd d: yeah . uh silent , i  i  i  i do n't  i  i have n't the  eh i  i would like to  to do a stylistic study professor e: yeah .\", 'output': 'efforts by speaker mn005 are in progress to detect overlapping speech . for a single transcribed meeting , speaker mn005 reported approximately 300 cases of overlap . future work will involve manually deriving time marks from sections of overlapping speech for the same meeting , and then experimenting with different measures , e.g . energy increase , to determine a set of acoustically salient features for identifying speaker overlap .'}\n"
     ]
    }
   ],
   "source": [
    "# process data for BART\n",
    "# the input of the model here is the gold span corresponding to each query\n",
    "bart_data_gold = []\n",
    "for i in range(len(data)):\n",
    "    # get meeting content\n",
    "    entire_src = []\n",
    "    for k in range(len(data[i]['meeting_transcripts'])):\n",
    "        cur_turn = data[i]['meeting_transcripts'][k]['speaker'].lower() + ': '\n",
    "        cur_turn = cur_turn + tokenize(data[i]['meeting_transcripts'][k]['content'])\n",
    "        entire_src.append(cur_turn)\n",
    "    entire_src = ' '.join(entire_src)\n",
    "    for j in range(len(data[i]['general_query_list'])):\n",
    "        cur = {}\n",
    "        query = tokenize(data[i]['general_query_list'][j]['query'])\n",
    "        cur['instruction'] = clean_data(query)\n",
    "        cur['input'] = clean_data(entire_src)\n",
    "        # cur['src'] = clean_data('<s> ' + query + ' </s> ' + entire_src + ' </s>')\n",
    "        target = tokenize(data[i]['general_query_list'][j]['answer'])\n",
    "        # cur['tgt'] = target\n",
    "        cur['output'] = target\n",
    "        bart_data_gold.append(cur)\n",
    "    for j in range(len(data[i]['specific_query_list'])):\n",
    "        cur = {}\n",
    "        query = tokenize(data[i]['specific_query_list'][j]['query'])\n",
    "        src = []\n",
    "        # get the content in the gold span for each query\n",
    "        for span in data[i]['specific_query_list'][j]['relevant_text_span']:\n",
    "            assert len(span) == 2\n",
    "            st, ed = int(span[0]), int(span[1])\n",
    "            for k in range(st, ed + 1):\n",
    "                cur_turn = data[i]['meeting_transcripts'][k]['speaker'].lower() + ': '\n",
    "                cur_turn = cur_turn + tokenize(data[i]['meeting_transcripts'][k]['content'])\n",
    "                src.append(cur_turn)\n",
    "        src = ' '.join(src)\n",
    "        cur['instruction'] = clean_data(query)\n",
    "        cur['input'] = clean_data(src)\n",
    "        # cur['src'] = clean_data('<s> ' + query + ' </s> ' + src + ' </s>')\n",
    "        target = tokenize(data[i]['specific_query_list'][j]['answer'])\n",
    "        # cur['tgt'] = target\n",
    "        cur['output'] = target\n",
    "        bart_data_gold.append(cur)\n",
    "        \n",
    "print('Total {} query-summary pairs in the {} set'.format(len(bart_data_gold), split))\n",
    "print(bart_data_gold[2])\n",
    "with open(f'{path}/datasets/QMSum_gold_clean/' + split + '.jsonl', 'w') as f:\n",
    "    for i in range(len(bart_data_gold)):\n",
    "        print(json.dumps(bart_data_gold[i]), file=f)"
   ]
  },
  {
   "cell_type": "code",
   "execution_count": 7,
   "metadata": {},
   "outputs": [
    {
     "name": "stderr",
     "output_type": "stream",
     "text": [
      "[nltk_data] Downloading package punkt to /home1/caojie/nltk_data...\n",
      "[nltk_data]   Unzipping tokenizers/punkt.zip.\n"
     ]
    },
    {
     "data": {
      "text/plain": [
       "True"
      ]
     },
     "execution_count": 7,
     "metadata": {},
     "output_type": "execute_result"
    }
   ],
   "source": [
    "import nltk\n",
    "nltk.download('punkt')"
   ]
  },
  {
   "cell_type": "code",
   "execution_count": 14,
   "metadata": {},
   "outputs": [],
   "source": [
    "split = 'train'\n",
    "with open(f'{path}/datasets/QMSum/' + split + '.jsonl', 'r') as f:\n",
    "    lines = f.readlines()\n",
    "data = [json.loads(line) for line in lines]"
   ]
  },
  {
   "cell_type": "code",
   "execution_count": 15,
   "metadata": {},
   "outputs": [
    {
     "name": "stdout",
     "output_type": "stream",
     "text": [
      "10571.826571201273\n",
      "77.92521877486078\n"
     ]
    }
   ],
   "source": [
    "input_lens = []\n",
    "output_lens= []\n",
    "for x in data:\n",
    "    input_lens.append(len(x['input'].split()))\n",
    "    output_lens.append(len(x['output'].split()))\n",
    "\n",
    "print(sum(input_lens)/len(input_lens))\n",
    "print(sum(output_lens)/len(output_lens))"
   ]
  },
  {
   "cell_type": "code",
   "execution_count": 4,
   "metadata": {},
   "outputs": [],
   "source": [
    "with open(f'{path}/QMSum-main/extracted_span/'+split+'.txt', 'r') as f:\n",
    "    lines = f.readlines()\n",
    "querys = []\n",
    "inputs = []\n",
    "for x in lines:\n",
    "    sp = x.split('</s>')\n",
    "    query = sp[0].replace('<s>','')\n",
    "    input = sp[1]\n",
    "    querys.append(query)\n",
    "    inputs.append(input)\n",
    "    "
   ]
  },
  {
   "cell_type": "code",
   "execution_count": 12,
   "metadata": {},
   "outputs": [
    {
     "name": "stdout",
     "output_type": "stream",
     "text": [
      "1257 1257\n"
     ]
    }
   ],
   "source": [
    "print(len(data),len(inputs))"
   ]
  },
  {
   "cell_type": "markdown",
   "metadata": {},
   "source": [
    "# CovidET"
   ]
  },
  {
   "cell_type": "code",
   "execution_count": null,
   "metadata": {},
   "outputs": [],
   "source": [
    "import json\n",
    "tag = 'train' # test \n",
    "path = \"/home\"\n",
    "datafile = f'{path}/CovidET-main/data/train_val_test_anonymized-WITH_POSTS/{tag}_anonymized-WITH_POSTS.json'\n",
    "with open(datafile, 'r') as f:\n",
    "    all = json.loads(f.read())"
   ]
  },
  {
   "cell_type": "code",
   "execution_count": null,
   "metadata": {},
   "outputs": [],
   "source": [
    "save_path = f'{path}/datasets/CovidET/{tag}.jsonl'\n",
    "for k,v in all.items():\n",
    "    data= {}\n",
    "    # print(v)\n",
    "    data['article'] = v['Reddit Post']\n",
    "    for s,d in v['Annotations'].items():\n",
    "        for x in d:\n",
    "            if x.get('Abstractive'):\n",
    "                data['abstract'] = x['Abstractive']\n",
    "                data['phrases'] = x['Emotion']\n",
    "                with open(save_path, 'a') as f:\n",
    "                    json_data = json.dumps(data, ensure_ascii=False)\n",
    "                    f.write(json_data + '\\n')      "
   ]
  },
  {
   "cell_type": "markdown",
   "metadata": {},
   "source": [
    "# SQuALITY Dataset"
   ]
  },
  {
   "cell_type": "code",
   "execution_count": null,
   "metadata": {},
   "outputs": [],
   "source": [
    "import json\n",
    "tag = 'test'\n",
    "path = \"/home\"\n",
    "with open(f'{path}/SQuALITY/{tag}.jsonl', 'r') as f:\n",
    "    lines = f.readlines()\n",
    "data = [json.loads(line) for line in lines]"
   ]
  },
  {
   "cell_type": "code",
   "execution_count": null,
   "metadata": {},
   "outputs": [],
   "source": [
    "for x in data:\n",
    "    document = x['document']\n",
    "    questions = x['questions']\n",
    "    for question in questions:\n",
    "        query = question['question_text']\n",
    "        for response in question['responses']:\n",
    "            output = response['response_text']\n",
    "            one = {}\n",
    "            one['input'] = document\n",
    "            one['instruction'] = query\n",
    "            one['output'] = output\n",
    "            with open(f'{path}/datasets/SQuALITY/{tag}.jsonl', 'a') as f:\n",
    "                json_data = json.dumps(one, ensure_ascii=False)\n",
    "                f.write(json_data + '\\n')"
   ]
  }
 ],
 "metadata": {
  "kernelspec": {
   "display_name": "Python 3",
   "language": "python",
   "name": "python3"
  },
  "language_info": {
   "codemirror_mode": {
    "name": "ipython",
    "version": 3
   },
   "file_extension": ".py",
   "mimetype": "text/x-python",
   "name": "python",
   "nbconvert_exporter": "python",
   "pygments_lexer": "ipython3",
   "version": "3.9.19"
  }
 },
 "nbformat": 4,
 "nbformat_minor": 4
}
